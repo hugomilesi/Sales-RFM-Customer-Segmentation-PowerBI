{
 "cells": [
  {
   "cell_type": "code",
   "execution_count": 1,
   "id": "7eadabc9",
   "metadata": {},
   "outputs": [],
   "source": [
    "import pandas as pd\n",
    "import matplotlib.pyplot as plt\n",
    "import os\n",
    "import plotly.express as px\n",
    "import seaborn as sns\n",
    "\n",
    "# visual setups\n",
    "plt.style.use('dark_background')  # Set dark background for matplotlib\n",
    "px.defaults.template = \"plotly_dark\""
   ]
  },
  {
   "cell_type": "code",
   "execution_count": 2,
   "id": "779e4fc9",
   "metadata": {},
   "outputs": [
    {
     "name": "stdout",
     "output_type": "stream",
     "text": [
      "=============== Details of table 0 ===============\n",
      "       year_established       revenue     employees\n",
      "count         85.000000     85.000000     85.000000\n",
      "mean        1996.105882   1994.632941   4660.823529\n",
      "std            8.865427   2169.491436   5715.601198\n",
      "min         1979.000000      4.540000      9.000000\n",
      "25%         1989.000000    497.110000   1179.000000\n",
      "50%         1996.000000   1223.720000   2769.000000\n",
      "75%         2002.000000   2741.370000   5595.000000\n",
      "max         2017.000000  11698.030000  34288.000000 \n",
      "\n",
      "<class 'pandas.core.frame.DataFrame'>\n",
      "RangeIndex: 85 entries, 0 to 84\n",
      "Data columns (total 7 columns):\n",
      " #   Column            Non-Null Count  Dtype  \n",
      "---  ------            --------------  -----  \n",
      " 0   account           85 non-null     object \n",
      " 1   sector            85 non-null     object \n",
      " 2   year_established  85 non-null     int64  \n",
      " 3   revenue           85 non-null     float64\n",
      " 4   employees         85 non-null     int64  \n",
      " 5   office_location   85 non-null     object \n",
      " 6   subsidiary_of     15 non-null     object \n",
      "dtypes: float64(1), int64(2), object(4)\n",
      "memory usage: 4.8+ KB\n",
      "None \n",
      "\n",
      "====================================================================================================\n",
      "=============== Details of table 1 ===============\n",
      "        sales_price\n",
      "count      7.000000\n",
      "mean    6023.571429\n",
      "std     9388.428070\n",
      "min       55.000000\n",
      "25%      823.000000\n",
      "50%     3393.000000\n",
      "75%     5151.500000\n",
      "max    26768.000000 \n",
      "\n",
      "<class 'pandas.core.frame.DataFrame'>\n",
      "RangeIndex: 7 entries, 0 to 6\n",
      "Data columns (total 3 columns):\n",
      " #   Column       Non-Null Count  Dtype \n",
      "---  ------       --------------  ----- \n",
      " 0   product      7 non-null      object\n",
      " 1   series       7 non-null      object\n",
      " 2   sales_price  7 non-null      int64 \n",
      "dtypes: int64(1), object(2)\n",
      "memory usage: 300.0+ bytes\n",
      "None \n",
      "\n",
      "====================================================================================================\n",
      "=============== Details of table 2 ===============\n",
      "        close_value\n",
      "count   6711.000000\n",
      "mean    1490.915512\n",
      "std     2320.670773\n",
      "min        0.000000\n",
      "25%        0.000000\n",
      "50%      472.000000\n",
      "75%     3225.000000\n",
      "max    30288.000000 \n",
      "\n",
      "<class 'pandas.core.frame.DataFrame'>\n",
      "RangeIndex: 8800 entries, 0 to 8799\n",
      "Data columns (total 8 columns):\n",
      " #   Column          Non-Null Count  Dtype  \n",
      "---  ------          --------------  -----  \n",
      " 0   opportunity_id  8800 non-null   object \n",
      " 1   sales_agent     8800 non-null   object \n",
      " 2   product         8800 non-null   object \n",
      " 3   account         7375 non-null   object \n",
      " 4   deal_stage      8800 non-null   object \n",
      " 5   engage_date     8300 non-null   object \n",
      " 6   close_date      6711 non-null   object \n",
      " 7   close_value     6711 non-null   float64\n",
      "dtypes: float64(1), object(7)\n",
      "memory usage: 550.1+ KB\n",
      "None \n",
      "\n",
      "====================================================================================================\n",
      "=============== Details of table 3 ===============\n",
      "          sales_agent        manager regional_office\n",
      "count              35             35              35\n",
      "unique             35              6               3\n",
      "top     Anna Snelling  Melvin Marxen            East\n",
      "freq                1              6              12 \n",
      "\n",
      "<class 'pandas.core.frame.DataFrame'>\n",
      "RangeIndex: 35 entries, 0 to 34\n",
      "Data columns (total 3 columns):\n",
      " #   Column           Non-Null Count  Dtype \n",
      "---  ------           --------------  ----- \n",
      " 0   sales_agent      35 non-null     object\n",
      " 1   manager          35 non-null     object\n",
      " 2   regional_office  35 non-null     object\n",
      "dtypes: object(3)\n",
      "memory usage: 972.0+ bytes\n",
      "None \n",
      "\n",
      "====================================================================================================\n"
     ]
    }
   ],
   "source": [
    "data_path = 'data'\n",
    "def load(data_folder, filename):\n",
    "    df = pd.read_csv(os.path.join(data_folder, filename))\n",
    "    return df\n",
    "\n",
    "accounts = load(data_path, 'accounts.csv')\n",
    "products = load(data_path, 'products.csv')\n",
    "sales_pipeline = load(data_path, 'sales_pipeline.csv')\n",
    "sales_teams = load(data_path, 'sales_teams.csv')\n",
    "\n",
    "tables = [accounts, products, sales_pipeline, sales_teams] \n",
    "\n",
    "for index, table in enumerate(tables):\n",
    "    print(f\"=============== Details of table {index } ===============\")\n",
    "    print(table.describe(), '\\n')\n",
    "    print(table.info(), '\\n')\n",
    "    print('=' * 100)\n"
   ]
  },
  {
   "cell_type": "markdown",
   "id": "00a292d9",
   "metadata": {},
   "source": [
    "- Merging the tables"
   ]
  },
  {
   "cell_type": "code",
   "execution_count": 3,
   "id": "503970e7",
   "metadata": {},
   "outputs": [],
   "source": [
    "df = sales_pipeline.merge(accounts, on='account', how='left')\n",
    "df = df.merge(products, on='product', how='left')\n",
    "df = df.merge(sales_teams, on='sales_agent', how='left')\n",
    "\n",
    "df.isnull().sum()\n",
    "\n",
    "sales_pipeline.loc[sales_pipeline['product'].str.contains('GTXPro', case = False), 'product'] = 'GTX Pro'\n"
   ]
  },
  {
   "cell_type": "code",
   "execution_count": 4,
   "id": "4223b3c3",
   "metadata": {},
   "outputs": [
    {
     "data": {
      "text/plain": [
       "opportunity_id         0\n",
       "sales_agent            0\n",
       "product                0\n",
       "account                0\n",
       "deal_stage             0\n",
       "engage_date          163\n",
       "close_date           664\n",
       "close_value          664\n",
       "sector                 0\n",
       "year_established       0\n",
       "revenue                0\n",
       "employees              0\n",
       "office_location        0\n",
       "subsidiary_of       6083\n",
       "series              1258\n",
       "sales_price         1258\n",
       "manager                0\n",
       "regional_office        0\n",
       "dtype: int64"
      ]
     },
     "execution_count": 4,
     "metadata": {},
     "output_type": "execute_result"
    }
   ],
   "source": [
    "# Removing all blank customers\n",
    "df = df.dropna(subset='account')\n",
    "df.isnull().sum()"
   ]
  },
  {
   "cell_type": "markdown",
   "id": "6792f90c",
   "metadata": {},
   "source": [
    "# RFM Analysis"
   ]
  },
  {
   "cell_type": "code",
   "execution_count": 5,
   "id": "f2225115",
   "metadata": {},
   "outputs": [],
   "source": [
    "df['close_date'] = pd.to_datetime(df.close_date)\n",
    "reference_date = df['close_date'].max() + pd.Timedelta(days=1)\n",
    "\n",
    "# Calculate RFM\n",
    "rfm = df.groupby('account').agg({\n",
    "    'close_date': lambda x: (reference_date - x.max()).days,\n",
    "    'opportunity_id': 'nunique',\n",
    "    'close_value': 'sum'\n",
    "}).reset_index()\n",
    "\n",
    "rfm = rfm.rename(columns={\n",
    "    'close_date': 'recency',\n",
    "    'opportunity_id': 'frequency',\n",
    "    'close_value': 'monetary'\n",
    "})\n",
    "\n",
    "# Create quantiles for recency\n",
    "recency_cuts = pd.qcut(rfm['recency'], q=5, duplicates='drop')\n",
    "n_bins = recency_cuts.cat.categories.size\n",
    "recency_labels = list(range(n_bins, 0, -1))\n",
    "\n",
    "# Now use n_bins instead of 5\n",
    "rfm['R_Score'] = pd.qcut(rfm['recency'], q=n_bins, labels=recency_labels, duplicates='drop')\n",
    "rfm['F_Score'] = pd.qcut(rfm['frequency'].rank(method='first'), q=n_bins, labels=range(1, n_bins + 1), duplicates='drop')\n",
    "rfm['M_Score'] = pd.qcut(rfm['monetary'].rank(method='first'), q=n_bins, labels=range(1, n_bins + 1), duplicates='drop')\n"
   ]
  },
  {
   "cell_type": "markdown",
   "id": "17efe1e1",
   "metadata": {},
   "source": [
    "### K-Mean Clustering"
   ]
  },
  {
   "cell_type": "code",
   "execution_count": 6,
   "id": "9a52080c",
   "metadata": {},
   "outputs": [
    {
     "name": "stderr",
     "output_type": "stream",
     "text": [
      "C:\\Users\\Usuario\\AppData\\Local\\Temp\\ipykernel_4012\\2869928001.py:20: UserWarning: color is redundantly defined by the 'color' keyword argument and the fmt string \"bo-\" (-> color='b'). The keyword argument will take precedence.\n",
      "  plt.plot(K, inertia, 'bo-', color='gold')\n"
     ]
    },
    {
     "data": {
      "image/png": "[encoded data removed]",
      "text/plain": [
       "<Figure size 800x500 with 1 Axes>"
      ]
     },
     "metadata": {},
     "output_type": "display_data"
    },
    {
     "name": "stderr",
     "output_type": "stream",
     "text": [
      "C:\\Users\\Usuario\\AppData\\Local\\Temp\\ipykernel_4012\\2869928001.py:35: UserWarning: color is redundantly defined by the 'color' keyword argument and the fmt string \"bo-\" (-> color='b'). The keyword argument will take precedence.\n",
      "  plt.plot(K, sil_scores, 'bo-', color='gold')\n"
     ]
    },
    {
     "data": {
      "image/png": "[encoded data removed]",
      "text/plain": [
       "<Figure size 800x500 with 1 Axes>"
      ]
     },
     "metadata": {},
     "output_type": "display_data"
    }
   ],
   "source": [
    "from sklearn.preprocessing import StandardScaler\n",
    "from sklearn.cluster import KMeans\n",
    "import matplotlib.pyplot as plt\n",
    "from sklearn.metrics import silhouette_score\n",
    "\n",
    "# Prepare data for clustering\n",
    "rfm_features = rfm[['recency', 'frequency', 'monetary']]\n",
    "scaler = StandardScaler()\n",
    "rfm_scaled = scaler.fit_transform(rfm_features)\n",
    "\n",
    "# Elbow Method to find optimal k\n",
    "inertia = []\n",
    "K = range(2, 10)\n",
    "for k in K:\n",
    "    kmeans = KMeans(n_clusters=k, random_state=42)\n",
    "    kmeans.fit(rfm_scaled)\n",
    "    inertia.append(kmeans.inertia_)\n",
    "\n",
    "plt.figure(figsize=(8, 5))\n",
    "plt.plot(K, inertia, 'bo-', color='gold')\n",
    "plt.xlabel('Number of Clusters (k)')\n",
    "plt.ylabel('Inertia')\n",
    "plt.title('Elbow Method for Optimal k')\n",
    "plt.savefig('images/elbow_plot.png')\n",
    "plt.show()\n",
    "\n",
    "# Silhouette Score\n",
    "sil_scores = []\n",
    "for k in K:\n",
    "    kmeans = KMeans(n_clusters=k, random_state=42)\n",
    "    labels = kmeans.fit_predict(rfm_scaled)\n",
    "    sil_scores.append(silhouette_score(rfm_scaled, labels))\n",
    "\n",
    "plt.figure(figsize=(8, 5))\n",
    "plt.plot(K, sil_scores, 'bo-', color='gold')\n",
    "plt.xlabel('Number of Clusters (k)')\n",
    "plt.ylabel('Silhouette Score')\n",
    "plt.title('Silhouette Score for Optimal k')\n",
    "plt.savefig('images/silhouette_plot.png')\n",
    "plt.show()\n",
    "\n",
    "# Apply K-Means with chosen k (e.g., k=4 based on Elbow/Silhouette)\n",
    "optimal_k = 4\n",
    "kmeans = KMeans(n_clusters=optimal_k, random_state=42)\n",
    "rfm['Cluster'] = kmeans.fit_predict(rfm_scaled)\n",
    "\n",
    "# Save clustered data\n",
    "#rfm.to_csv('data/rfm_clustered.csv', index=False)"
   ]
  },
  {
   "cell_type": "markdown",
   "id": "d7120bb7",
   "metadata": {},
   "source": [
    "- The elbow method suggests to go with 4 clusters.\n",
    "- The silhouette method also suggests to go with 4 clusters."
   ]
  },
  {
   "cell_type": "code",
   "execution_count": 7,
   "id": "c701fcd3",
   "metadata": {},
   "outputs": [
    {
     "data": {
      "text/html": [
       "<div>\n",
       "<style scoped>\n",
       "    .dataframe tbody tr th:only-of-type {\n",
       "        vertical-align: middle;\n",
       "    }\n",
       "\n",
       "    .dataframe tbody tr th {\n",
       "        vertical-align: top;\n",
       "    }\n",
       "\n",
       "    .dataframe thead th {\n",
       "        text-align: right;\n",
       "    }\n",
       "</style>\n",
       "<table border=\"1\" class=\"dataframe\">\n",
       "  <thead>\n",
       "    <tr style=\"text-align: right;\">\n",
       "      <th></th>\n",
       "      <th>account</th>\n",
       "      <th>recency</th>\n",
       "      <th>frequency</th>\n",
       "      <th>monetary</th>\n",
       "      <th>R_Score</th>\n",
       "      <th>F_Score</th>\n",
       "      <th>M_Score</th>\n",
       "      <th>Cluster</th>\n",
       "    </tr>\n",
       "  </thead>\n",
       "  <tbody>\n",
       "    <tr>\n",
       "      <th>0</th>\n",
       "      <td>Acme Corporation</td>\n",
       "      <td>5</td>\n",
       "      <td>68</td>\n",
       "      <td>101744.0</td>\n",
       "      <td>2</td>\n",
       "      <td>2</td>\n",
       "      <td>2</td>\n",
       "      <td>0</td>\n",
       "    </tr>\n",
       "    <tr>\n",
       "      <th>1</th>\n",
       "      <td>Betasoloin</td>\n",
       "      <td>4</td>\n",
       "      <td>68</td>\n",
       "      <td>97036.0</td>\n",
       "      <td>2</td>\n",
       "      <td>2</td>\n",
       "      <td>2</td>\n",
       "      <td>0</td>\n",
       "    </tr>\n",
       "    <tr>\n",
       "      <th>2</th>\n",
       "      <td>Betatech</td>\n",
       "      <td>3</td>\n",
       "      <td>92</td>\n",
       "      <td>107408.0</td>\n",
       "      <td>3</td>\n",
       "      <td>3</td>\n",
       "      <td>2</td>\n",
       "      <td>2</td>\n",
       "    </tr>\n",
       "    <tr>\n",
       "      <th>3</th>\n",
       "      <td>Bioholding</td>\n",
       "      <td>2</td>\n",
       "      <td>94</td>\n",
       "      <td>90991.0</td>\n",
       "      <td>4</td>\n",
       "      <td>3</td>\n",
       "      <td>2</td>\n",
       "      <td>0</td>\n",
       "    </tr>\n",
       "    <tr>\n",
       "      <th>4</th>\n",
       "      <td>Bioplex</td>\n",
       "      <td>16</td>\n",
       "      <td>53</td>\n",
       "      <td>67393.0</td>\n",
       "      <td>1</td>\n",
       "      <td>1</td>\n",
       "      <td>1</td>\n",
       "      <td>1</td>\n",
       "    </tr>\n",
       "    <tr>\n",
       "      <th>...</th>\n",
       "      <td>...</td>\n",
       "      <td>...</td>\n",
       "      <td>...</td>\n",
       "      <td>...</td>\n",
       "      <td>...</td>\n",
       "      <td>...</td>\n",
       "      <td>...</td>\n",
       "      <td>...</td>\n",
       "    </tr>\n",
       "    <tr>\n",
       "      <th>80</th>\n",
       "      <td>Zencorporation</td>\n",
       "      <td>14</td>\n",
       "      <td>58</td>\n",
       "      <td>86690.0</td>\n",
       "      <td>1</td>\n",
       "      <td>1</td>\n",
       "      <td>2</td>\n",
       "      <td>1</td>\n",
       "    </tr>\n",
       "    <tr>\n",
       "      <th>81</th>\n",
       "      <td>Zoomit</td>\n",
       "      <td>4</td>\n",
       "      <td>58</td>\n",
       "      <td>76684.0</td>\n",
       "      <td>2</td>\n",
       "      <td>1</td>\n",
       "      <td>1</td>\n",
       "      <td>0</td>\n",
       "    </tr>\n",
       "    <tr>\n",
       "      <th>82</th>\n",
       "      <td>Zotware</td>\n",
       "      <td>2</td>\n",
       "      <td>75</td>\n",
       "      <td>138339.0</td>\n",
       "      <td>4</td>\n",
       "      <td>2</td>\n",
       "      <td>3</td>\n",
       "      <td>2</td>\n",
       "    </tr>\n",
       "    <tr>\n",
       "      <th>83</th>\n",
       "      <td>Zumgoity</td>\n",
       "      <td>5</td>\n",
       "      <td>63</td>\n",
       "      <td>78237.0</td>\n",
       "      <td>2</td>\n",
       "      <td>1</td>\n",
       "      <td>1</td>\n",
       "      <td>0</td>\n",
       "    </tr>\n",
       "    <tr>\n",
       "      <th>84</th>\n",
       "      <td>dambase</td>\n",
       "      <td>3</td>\n",
       "      <td>92</td>\n",
       "      <td>116394.0</td>\n",
       "      <td>3</td>\n",
       "      <td>3</td>\n",
       "      <td>3</td>\n",
       "      <td>2</td>\n",
       "    </tr>\n",
       "  </tbody>\n",
       "</table>\n",
       "<p>85 rows × 8 columns</p>\n",
       "</div>"
      ],
      "text/plain": [
       "             account  recency  frequency  monetary R_Score F_Score M_Score  \\\n",
       "0   Acme Corporation        5         68  101744.0       2       2       2   \n",
       "1         Betasoloin        4         68   97036.0       2       2       2   \n",
       "2           Betatech        3         92  107408.0       3       3       2   \n",
       "3         Bioholding        2         94   90991.0       4       3       2   \n",
       "4            Bioplex       16         53   67393.0       1       1       1   \n",
       "..               ...      ...        ...       ...     ...     ...     ...   \n",
       "80    Zencorporation       14         58   86690.0       1       1       2   \n",
       "81            Zoomit        4         58   76684.0       2       1       1   \n",
       "82           Zotware        2         75  138339.0       4       2       3   \n",
       "83          Zumgoity        5         63   78237.0       2       1       1   \n",
       "84           dambase        3         92  116394.0       3       3       3   \n",
       "\n",
       "    Cluster  \n",
       "0         0  \n",
       "1         0  \n",
       "2         2  \n",
       "3         0  \n",
       "4         1  \n",
       "..      ...  \n",
       "80        1  \n",
       "81        0  \n",
       "82        2  \n",
       "83        0  \n",
       "84        2  \n",
       "\n",
       "[85 rows x 8 columns]"
      ]
     },
     "execution_count": 7,
     "metadata": {},
     "output_type": "execute_result"
    }
   ],
   "source": [
    "optimal_k = 4\n",
    "kmeans = KMeans(n_clusters=optimal_k, random_state=42)\n",
    "rfm['Cluster'] = kmeans.fit_predict(rfm_scaled)\n",
    "\n",
    "rfm"
   ]
  },
  {
   "cell_type": "markdown",
   "id": "7edd41f7",
   "metadata": {},
   "source": [
    "- Cluster Analysis"
   ]
  },
  {
   "cell_type": "code",
   "execution_count": 8,
   "id": "45415496",
   "metadata": {},
   "outputs": [
    {
     "data": {
      "text/html": [
       "<div>\n",
       "<style scoped>\n",
       "    .dataframe tbody tr th:only-of-type {\n",
       "        vertical-align: middle;\n",
       "    }\n",
       "\n",
       "    .dataframe tbody tr th {\n",
       "        vertical-align: top;\n",
       "    }\n",
       "\n",
       "    .dataframe thead th {\n",
       "        text-align: right;\n",
       "    }\n",
       "</style>\n",
       "<table border=\"1\" class=\"dataframe\">\n",
       "  <thead>\n",
       "    <tr style=\"text-align: right;\">\n",
       "      <th></th>\n",
       "      <th>Cluster</th>\n",
       "      <th>recency</th>\n",
       "      <th>frequency</th>\n",
       "      <th>monetary</th>\n",
       "      <th>Count</th>\n",
       "    </tr>\n",
       "  </thead>\n",
       "  <tbody>\n",
       "    <tr>\n",
       "      <th>0</th>\n",
       "      <td>0</td>\n",
       "      <td>3.666667</td>\n",
       "      <td>67.222222</td>\n",
       "      <td>84173.694444</td>\n",
       "      <td>36</td>\n",
       "    </tr>\n",
       "    <tr>\n",
       "      <th>1</th>\n",
       "      <td>1</td>\n",
       "      <td>14.666667</td>\n",
       "      <td>73.000000</td>\n",
       "      <td>109946.888889</td>\n",
       "      <td>9</td>\n",
       "    </tr>\n",
       "    <tr>\n",
       "      <th>2</th>\n",
       "      <td>2</td>\n",
       "      <td>3.083333</td>\n",
       "      <td>98.722222</td>\n",
       "      <td>138158.111111</td>\n",
       "      <td>36</td>\n",
       "    </tr>\n",
       "    <tr>\n",
       "      <th>3</th>\n",
       "      <td>3</td>\n",
       "      <td>1.750000</td>\n",
       "      <td>186.000000</td>\n",
       "      <td>253016.750000</td>\n",
       "      <td>4</td>\n",
       "    </tr>\n",
       "  </tbody>\n",
       "</table>\n",
       "</div>"
      ],
      "text/plain": [
       "   Cluster    recency   frequency       monetary  Count\n",
       "0        0   3.666667   67.222222   84173.694444     36\n",
       "1        1  14.666667   73.000000  109946.888889      9\n",
       "2        2   3.083333   98.722222  138158.111111     36\n",
       "3        3   1.750000  186.000000  253016.750000      4"
      ]
     },
     "execution_count": 8,
     "metadata": {},
     "output_type": "execute_result"
    }
   ],
   "source": [
    "cluster_summary = rfm.groupby('Cluster').agg({\n",
    "    'recency': 'mean',\n",
    "    'frequency': 'mean',\n",
    "    'monetary': 'mean',\n",
    "    'account': 'count'\n",
    "}).rename(columns={'account': 'Count'}).reset_index()\n",
    "\n",
    "cluster_summary"
   ]
  },
  {
   "cell_type": "markdown",
   "id": "3783b615",
   "metadata": {},
   "source": [
    "### Explanation\n",
    "\n",
    "- Recency = Lower days better\n",
    "- Frequency and Monetary = Higher values better "
   ]
  },
  {
   "cell_type": "markdown",
   "id": "3885eab4",
   "metadata": {},
   "source": [
    "### Expected Clusters (based on RFM):\n",
    "- Cluster 3: This is the best cluster. these customers are highly active and spend the most.\n",
    "\n",
    "- Cluster 2: Also very good, but slightly less valuable than cluster 3.\n",
    "\n",
    "- Cluster 0 Good, but lower compared to cluster 2 and 3.\n",
    "\n",
    "- Cluster 1: Customers buy and spend a decent amount, but they haven't purchased recently. At risk if no re-engaged.\n",
    "\n",
    "\n",
    "Renaming The cluster to propper tier names:\n"
   ]
  },
  {
   "cell_type": "code",
   "execution_count": 9,
   "id": "e23b5f0b",
   "metadata": {},
   "outputs": [],
   "source": [
    "cluster_names = {\n",
    "    0: 'Potential Loyalists',\n",
    "    1: 'Needs Attention',\n",
    "    2: 'Loyal High-Value Customers',\n",
    "    3: 'Champions'\n",
    "}\n",
    "\n",
    "rfm['Cluster'] = rfm['Cluster'].map(cluster_names)"
   ]
  },
  {
   "cell_type": "markdown",
   "id": "ab15a8db",
   "metadata": {},
   "source": [
    "### Visualizations"
   ]
  },
  {
   "cell_type": "code",
   "execution_count": 10,
   "id": "a0e89941",
   "metadata": {},
   "outputs": [
    {
     "name": "stderr",
     "output_type": "stream",
     "text": [
      "C:\\Users\\Usuario\\AppData\\Local\\Temp\\ipykernel_4012\\556412218.py:4: FutureWarning: The default of observed=False is deprecated and will be changed to True in a future version of pandas. Pass observed=False to retain current behavior or observed=True to adopt the future default and silence this warning.\n",
      "  rfm_pivot = rfm.groupby(['R_Score', 'F_Score'])['monetary'].mean().unstack()\n"
     ]
    },
    {
     "data": {
      "image/png": "[encoded data removed]",
      "text/plain": [
       "<Figure size 1000x600 with 2 Axes>"
      ]
     },
     "metadata": {},
     "output_type": "display_data"
    }
   ],
   "source": [
    "import seaborn as sns\n",
    "\n",
    "# Pivot table for heatmap\n",
    "rfm_pivot = rfm.groupby(['R_Score', 'F_Score'])['monetary'].mean().unstack()\n",
    "\n",
    "plt.figure(figsize=(10, 6))\n",
    "sns.heatmap(rfm_pivot, annot=True, fmt='.0f', cmap='Blues')\n",
    "plt.title('Average Monetary Value by Recency and Frequency Scores')\n",
    "#plt.savefig('visualizations/rfm_heatmap.png')\n",
    "plt.savefig(\"images/heatmap.png\", dpi=300, bbox_inches='tight')\n",
    "plt.show()"
   ]
  },
  {
   "cell_type": "code",
   "execution_count": 11,
   "id": "b7cffa12",
   "metadata": {},
   "outputs": [
    {
     "data": {
      "application/vnd.plotly.v1+json": {
       "config": {
        "plotlyServerURL": "https://plot.ly"
       },
       "data": [
        {
         "hovertemplate": "Cluster=Potential Loyalists<br>recency=%{x}<br>frequency=%{y}<br>monetary=%{z}<extra></extra>",
         "legendgroup": "Potential Loyalists",
         "marker": {
          "color": "#636efa",
          "symbol": "circle"
         },
         "mode": "markers",
         "name": "Potential Loyalists",
         "scene": "scene",
         "showlegend": true,
         "type": "scatter3d",
         "x": {
          "bdata": "BQQCAgIFAQEJAQMCAQgEBAIDAQkHBQEHCAEBBwEFBAMCAgQF",
          "dtype": "i1"
         },
         "y": {
          "bdata": "REReUzs7Uzs5T0BRQEYzTUpLPj03PDhUSE9HNEc0SEI+Ozo/",
          "dtype": "i1"
         },
         "z": {
          "bdata": "AAAAAADX+EAAAAAAwLD3QAAAAADwNvZAAAAAADBq9UAAAAAA4MjrQAAAAAAAyvVAAAAAAHBT+EAAAAAAYAz0QAAAAACgp+tAAAAAAHDD9EAAAAAAADbpQAAAAADQPfhAAAAAACDn+UAAAAAAAOz1QAAAAADwtfFAAAAAACAN+UAAAAAAkLDxQAAAAACgpP1AAAAAAOD/9UAAAAAA4M/uQAAAAADgK/RAAAAAANA080AAAAAAgMf1QAAAAACAG/RAAAAAAIB29EAAAAAAkE/5QAAAAACAYPBAAAAAACBA7UAAAAAAIBD6QAAAAADAtfJAAAAAAOD49EAAAAAA0Dr7QAAAAAAAavJAAAAAAAAo60AAAAAAwLjyQAAAAADQGfNA",
          "dtype": "f8"
         }
        },
        {
         "hovertemplate": "Cluster=Loyal High-Value Customers<br>recency=%{x}<br>frequency=%{y}<br>monetary=%{z}<extra></extra>",
         "legendgroup": "Loyal High-Value Customers",
         "marker": {
          "color": "#EF553B",
          "symbol": "circle"
         },
         "mode": "markers",
         "name": "Loyal High-Value Customers",
         "scene": "scene",
         "showlegend": true,
         "type": "scatter3d",
         "x": {
          "bdata": "AwIBAQQCAQIFAwEGAQECAgIBBQgIAgIBAQkCBAICBAYDBwID",
          "dtype": "i1"
         },
         "y": {
          "bdata": "XABlAGIAeQBhAFsAgQBVAFgAZgBZAG0AUQBYAF4AVwBxAHcAUQBYAFIAZwBtAHAAaABpAHAAagBtAHQAVABqAF4AXABLAFwA",
          "dtype": "i2"
         },
         "z": {
          "bdata": "AAAAAAA5+kAAAAAAMPb8QAAAAAAgLAhBAAAAALgcAUEAAAAA4Jf+QAAAAABAEAJBAAAAAABD/0AAAAAAEAL/QAAAAABQuftAAAAAAHCg/EAAAAAAECX/QAAAAACgBP9AAAAAACAn/kAAAAAAWHIAQQAAAAAA6/tAAAAAAGDL/EAAAAAAEFEBQQAAAABYGgRBAAAAALAZAUEAAAAAWPADQQAAAACAsgFBAAAAANjxAkEAAAAACIcCQQAAAACQov5AAAAAAAD7+kAAAAAAKN0DQQAAAABY8ANBAAAAALhrAUEAAAAAcK38QAAAAAB4kwVBAAAAAOijAkEAAAAA8MEEQQAAAACQhQBBAAAAABgLAEEAAAAAGOMAQQAAAACgavxA",
          "dtype": "f8"
         }
        },
        {
         "hovertemplate": "Cluster=Needs Attention<br>recency=%{x}<br>frequency=%{y}<br>monetary=%{z}<extra></extra>",
         "legendgroup": "Needs Attention",
         "marker": {
          "color": "#00cc96",
          "symbol": "circle"
         },
         "mode": "markers",
         "name": "Needs Attention",
         "scene": "scene",
         "showlegend": true,
         "type": "scatter3d",
         "x": {
          "bdata": "EAsLEBsNCg4O",
          "dtype": "i1"
         },
         "y": {
          "bdata": "NUhbX0k7RVc6",
          "dtype": "i1"
         },
         "z": {
          "bdata": "AAAAABB08EAAAAAAAAfzQAAAAAAAQPxAAAAAANBHBkEAAAAAQDX3QAAAAAAg4fpAAAAAACCx9EAAAAAAaKwEQQAAAAAgKvVA",
          "dtype": "f8"
         }
        },
        {
         "hovertemplate": "Cluster=Champions<br>recency=%{x}<br>frequency=%{y}<br>monetary=%{z}<extra></extra>",
         "legendgroup": "Champions",
         "marker": {
          "color": "#ab63fa",
          "symbol": "circle"
         },
         "mode": "markers",
         "name": "Champions",
         "scene": "scene",
         "showlegend": true,
         "type": "scatter3d",
         "x": {
          "bdata": "BAEBAQ==",
          "dtype": "i1"
         },
         "y": {
          "bdata": "qgDIAMQAsgA=",
          "dtype": "i2"
         },
         "z": {
          "bdata": "AAAAAFAyCUEAAAAAaMwHQQAAAAA81xRBAAAAAPRuEEE=",
          "dtype": "f8"
         }
        }
       ],
       "layout": {
        "height": 500,
        "legend": {
         "title": {
          "text": "Cluster"
         },
         "tracegroupgap": 0
        },
        "scene": {
         "domain": {
          "x": [
           0,
           1
          ],
          "y": [
           0,
           1
          ]
         },
         "xaxis": {
          "title": {
           "text": "recency"
          }
         },
         "yaxis": {
          "title": {
           "text": "frequency"
          }
         },
         "zaxis": {
          "title": {
           "text": "monetary"
          }
         }
        },
        "template": {
         "data": {
          "bar": [
           {
            "error_x": {
             "color": "#f2f5fa"
            },
            "error_y": {
             "color": "#f2f5fa"
            },
            "marker": {
             "line": {
              "color": "rgb(17,17,17)",
              "width": 0.5
             },
             "pattern": {
              "fillmode": "overlay",
              "size": 10,
              "solidity": 0.2
             }
            },
            "type": "bar"
           }
          ],
          "barpolar": [
           {
            "marker": {
             "line": {
              "color": "rgb(17,17,17)",
              "width": 0.5
             },
             "pattern": {
              "fillmode": "overlay",
              "size": 10,
              "solidity": 0.2
             }
            },
            "type": "barpolar"
           }
          ],
          "carpet": [
           {
            "aaxis": {
             "endlinecolor": "#A2B1C6",
             "gridcolor": "#506784",
             "linecolor": "#506784",
             "minorgridcolor": "#506784",
             "startlinecolor": "#A2B1C6"
            },
            "baxis": {
             "endlinecolor": "#A2B1C6",
             "gridcolor": "#506784",
             "linecolor": "#506784",
             "minorgridcolor": "#506784",
             "startlinecolor": "#A2B1C6"
            },
            "type": "carpet"
           }
          ],
          "choropleth": [
           {
            "colorbar": {
             "outlinewidth": 0,
             "ticks": ""
            },
            "type": "choropleth"
           }
          ],
          "contour": [
           {
            "colorbar": {
             "outlinewidth": 0,
             "ticks": ""
            },
            "colorscale": [
             [
              0,
              "#0d0887"
             ],
             [
              0.1111111111111111,
              "#46039f"
             ],
             [
              0.2222222222222222,
              "#7201a8"
             ],
             [
              0.3333333333333333,
              "#9c179e"
             ],
             [
              0.4444444444444444,
              "#bd3786"
             ],
             [
              0.5555555555555556,
              "#d8576b"
             ],
             [
              0.6666666666666666,
              "#ed7953"
             ],
             [
              0.7777777777777778,
              "#fb9f3a"
             ],
             [
              0.8888888888888888,
              "#fdca26"
             ],
             [
              1,
              "#f0f921"
             ]
            ],
            "type": "contour"
           }
          ],
          "contourcarpet": [
           {
            "colorbar": {
             "outlinewidth": 0,
             "ticks": ""
            },
            "type": "contourcarpet"
           }
          ],
          "heatmap": [
           {
            "colorbar": {
             "outlinewidth": 0,
             "ticks": ""
            },
            "colorscale": [
             [
              0,
              "#0d0887"
             ],
             [
              0.1111111111111111,
              "#46039f"
             ],
             [
              0.2222222222222222,
              "#7201a8"
             ],
             [
              0.3333333333333333,
              "#9c179e"
             ],
             [
              0.4444444444444444,
              "#bd3786"
             ],
             [
              0.5555555555555556,
              "#d8576b"
             ],
             [
              0.6666666666666666,
              "#ed7953"
             ],
             [
              0.7777777777777778,
              "#fb9f3a"
             ],
             [
              0.8888888888888888,
              "#fdca26"
             ],
             [
              1,
              "#f0f921"
             ]
            ],
            "type": "heatmap"
           }
          ],
          "histogram": [
           {
            "marker": {
             "pattern": {
              "fillmode": "overlay",
              "size": 10,
              "solidity": 0.2
             }
            },
            "type": "histogram"
           }
          ],
          "histogram2d": [
           {
            "colorbar": {
             "outlinewidth": 0,
             "ticks": ""
            },
            "colorscale": [
             [
              0,
              "#0d0887"
             ],
             [
              0.1111111111111111,
              "#46039f"
             ],
             [
              0.2222222222222222,
              "#7201a8"
             ],
             [
              0.3333333333333333,
              "#9c179e"
             ],
             [
              0.4444444444444444,
              "#bd3786"
             ],
             [
              0.5555555555555556,
              "#d8576b"
             ],
             [
              0.6666666666666666,
              "#ed7953"
             ],
             [
              0.7777777777777778,
              "#fb9f3a"
             ],
             [
              0.8888888888888888,
              "#fdca26"
             ],
             [
              1,
              "#f0f921"
             ]
            ],
            "type": "histogram2d"
           }
          ],
          "histogram2dcontour": [
           {
            "colorbar": {
             "outlinewidth": 0,
             "ticks": ""
            },
            "colorscale": [
             [
              0,
              "#0d0887"
             ],
             [
              0.1111111111111111,
              "#46039f"
             ],
             [
              0.2222222222222222,
              "#7201a8"
             ],
             [
              0.3333333333333333,
              "#9c179e"
             ],
             [
              0.4444444444444444,
              "#bd3786"
             ],
             [
              0.5555555555555556,
              "#d8576b"
             ],
             [
              0.6666666666666666,
              "#ed7953"
             ],
             [
              0.7777777777777778,
              "#fb9f3a"
             ],
             [
              0.8888888888888888,
              "#fdca26"
             ],
             [
              1,
              "#f0f921"
             ]
            ],
            "type": "histogram2dcontour"
           }
          ],
          "mesh3d": [
           {
            "colorbar": {
             "outlinewidth": 0,
             "ticks": ""
            },
            "type": "mesh3d"
           }
          ],
          "parcoords": [
           {
            "line": {
             "colorbar": {
              "outlinewidth": 0,
              "ticks": ""
             }
            },
            "type": "parcoords"
           }
          ],
          "pie": [
           {
            "automargin": true,
            "type": "pie"
           }
          ],
          "scatter": [
           {
            "marker": {
             "line": {
              "color": "#283442"
             }
            },
            "type": "scatter"
           }
          ],
          "scatter3d": [
           {
            "line": {
             "colorbar": {
              "outlinewidth": 0,
              "ticks": ""
             }
            },
            "marker": {
             "colorbar": {
              "outlinewidth": 0,
              "ticks": ""
             }
            },
            "type": "scatter3d"
           }
          ],
          "scattercarpet": [
           {
            "marker": {
             "colorbar": {
              "outlinewidth": 0,
              "ticks": ""
             }
            },
            "type": "scattercarpet"
           }
          ],
          "scattergeo": [
           {
            "marker": {
             "colorbar": {
              "outlinewidth": 0,
              "ticks": ""
             }
            },
            "type": "scattergeo"
           }
          ],
          "scattergl": [
           {
            "marker": {
             "line": {
              "color": "#283442"
             }
            },
            "type": "scattergl"
           }
          ],
          "scattermap": [
           {
            "marker": {
             "colorbar": {
              "outlinewidth": 0,
              "ticks": ""
             }
            },
            "type": "scattermap"
           }
          ],
          "scattermapbox": [
           {
            "marker": {
             "colorbar": {
              "outlinewidth": 0,
              "ticks": ""
             }
            },
            "type": "scattermapbox"
           }
          ],
          "scatterpolar": [
           {
            "marker": {
             "colorbar": {
              "outlinewidth": 0,
              "ticks": ""
             }
            },
            "type": "scatterpolar"
           }
          ],
          "scatterpolargl": [
           {
            "marker": {
             "colorbar": {
              "outlinewidth": 0,
              "ticks": ""
             }
            },
            "type": "scatterpolargl"
           }
          ],
          "scatterternary": [
           {
            "marker": {
             "colorbar": {
              "outlinewidth": 0,
              "ticks": ""
             }
            },
            "type": "scatterternary"
           }
          ],
          "surface": [
           {
            "colorbar": {
             "outlinewidth": 0,
             "ticks": ""
            },
            "colorscale": [
             [
              0,
              "#0d0887"
             ],
             [
              0.1111111111111111,
              "#46039f"
             ],
             [
              0.2222222222222222,
              "#7201a8"
             ],
             [
              0.3333333333333333,
              "#9c179e"
             ],
             [
              0.4444444444444444,
              "#bd3786"
             ],
             [
              0.5555555555555556,
              "#d8576b"
             ],
             [
              0.6666666666666666,
              "#ed7953"
             ],
             [
              0.7777777777777778,
              "#fb9f3a"
             ],
             [
              0.8888888888888888,
              "#fdca26"
             ],
             [
              1,
              "#f0f921"
             ]
            ],
            "type": "surface"
           }
          ],
          "table": [
           {
            "cells": {
             "fill": {
              "color": "#506784"
             },
             "line": {
              "color": "rgb(17,17,17)"
             }
            },
            "header": {
             "fill": {
              "color": "#2a3f5f"
             },
             "line": {
              "color": "rgb(17,17,17)"
             }
            },
            "type": "table"
           }
          ]
         },
         "layout": {
          "annotationdefaults": {
           "arrowcolor": "#f2f5fa",
           "arrowhead": 0,
           "arrowwidth": 1
          },
          "autotypenumbers": "strict",
          "coloraxis": {
           "colorbar": {
            "outlinewidth": 0,
            "ticks": ""
           }
          },
          "colorscale": {
           "diverging": [
            [
             0,
             "#8e0152"
            ],
            [
             0.1,
             "#c51b7d"
            ],
            [
             0.2,
             "#de77ae"
            ],
            [
             0.3,
             "#f1b6da"
            ],
            [
             0.4,
             "#fde0ef"
            ],
            [
             0.5,
             "#f7f7f7"
            ],
            [
             0.6,
             "#e6f5d0"
            ],
            [
             0.7,
             "#b8e186"
            ],
            [
             0.8,
             "#7fbc41"
            ],
            [
             0.9,
             "#4d9221"
            ],
            [
             1,
             "#276419"
            ]
           ],
           "sequential": [
            [
             0,
             "#0d0887"
            ],
            [
             0.1111111111111111,
             "#46039f"
            ],
            [
             0.2222222222222222,
             "#7201a8"
            ],
            [
             0.3333333333333333,
             "#9c179e"
            ],
            [
             0.4444444444444444,
             "#bd3786"
            ],
            [
             0.5555555555555556,
             "#d8576b"
            ],
            [
             0.6666666666666666,
             "#ed7953"
            ],
            [
             0.7777777777777778,
             "#fb9f3a"
            ],
            [
             0.8888888888888888,
             "#fdca26"
            ],
            [
             1,
             "#f0f921"
            ]
           ],
           "sequentialminus": [
            [
             0,
             "#0d0887"
            ],
            [
             0.1111111111111111,
             "#46039f"
            ],
            [
             0.2222222222222222,
             "#7201a8"
            ],
            [
             0.3333333333333333,
             "#9c179e"
            ],
            [
             0.4444444444444444,
             "#bd3786"
            ],
            [
             0.5555555555555556,
             "#d8576b"
            ],
            [
             0.6666666666666666,
             "#ed7953"
            ],
            [
             0.7777777777777778,
             "#fb9f3a"
            ],
            [
             0.8888888888888888,
             "#fdca26"
            ],
            [
             1,
             "#f0f921"
            ]
           ]
          },
          "colorway": [
           "#636efa",
           "#EF553B",
           "#00cc96",
           "#ab63fa",
           "#FFA15A",
           "#19d3f3",
           "#FF6692",
           "#B6E880",
           "#FF97FF",
           "#FECB52"
          ],
          "font": {
           "color": "#f2f5fa"
          },
          "geo": {
           "bgcolor": "rgb(17,17,17)",
           "lakecolor": "rgb(17,17,17)",
           "landcolor": "rgb(17,17,17)",
           "showlakes": true,
           "showland": true,
           "subunitcolor": "#506784"
          },
          "hoverlabel": {
           "align": "left"
          },
          "hovermode": "closest",
          "mapbox": {
           "style": "dark"
          },
          "paper_bgcolor": "rgb(17,17,17)",
          "plot_bgcolor": "rgb(17,17,17)",
          "polar": {
           "angularaxis": {
            "gridcolor": "#506784",
            "linecolor": "#506784",
            "ticks": ""
           },
           "bgcolor": "rgb(17,17,17)",
           "radialaxis": {
            "gridcolor": "#506784",
            "linecolor": "#506784",
            "ticks": ""
           }
          },
          "scene": {
           "xaxis": {
            "backgroundcolor": "rgb(17,17,17)",
            "gridcolor": "#506784",
            "gridwidth": 2,
            "linecolor": "#506784",
            "showbackground": true,
            "ticks": "",
            "zerolinecolor": "#C8D4E3"
           },
           "yaxis": {
            "backgroundcolor": "rgb(17,17,17)",
            "gridcolor": "#506784",
            "gridwidth": 2,
            "linecolor": "#506784",
            "showbackground": true,
            "ticks": "",
            "zerolinecolor": "#C8D4E3"
           },
           "zaxis": {
            "backgroundcolor": "rgb(17,17,17)",
            "gridcolor": "#506784",
            "gridwidth": 2,
            "linecolor": "#506784",
            "showbackground": true,
            "ticks": "",
            "zerolinecolor": "#C8D4E3"
           }
          },
          "shapedefaults": {
           "line": {
            "color": "#f2f5fa"
           }
          },
          "sliderdefaults": {
           "bgcolor": "#C8D4E3",
           "bordercolor": "rgb(17,17,17)",
           "borderwidth": 1,
           "tickwidth": 0
          },
          "ternary": {
           "aaxis": {
            "gridcolor": "#506784",
            "linecolor": "#506784",
            "ticks": ""
           },
           "baxis": {
            "gridcolor": "#506784",
            "linecolor": "#506784",
            "ticks": ""
           },
           "bgcolor": "rgb(17,17,17)",
           "caxis": {
            "gridcolor": "#506784",
            "linecolor": "#506784",
            "ticks": ""
           }
          },
          "title": {
           "x": 0.05
          },
          "updatemenudefaults": {
           "bgcolor": "#506784",
           "borderwidth": 0
          },
          "xaxis": {
           "automargin": true,
           "gridcolor": "#283442",
           "linecolor": "#506784",
           "ticks": "",
           "title": {
            "standoff": 15
           },
           "zerolinecolor": "#283442",
           "zerolinewidth": 2
          },
          "yaxis": {
           "automargin": true,
           "gridcolor": "#283442",
           "linecolor": "#506784",
           "ticks": "",
           "title": {
            "standoff": 15
           },
           "zerolinecolor": "#283442",
           "zerolinewidth": 2
          }
         }
        },
        "title": {
         "text": "Customer Segments by RFM"
        },
        "width": 1000
       }
      }
     },
     "metadata": {},
     "output_type": "display_data"
    }
   ],
   "source": [
    "fig = px.scatter_3d(rfm, \n",
    "                    x='recency', \n",
    "                    y='frequency', \n",
    "                    z='monetary', \n",
    "                    color='Cluster',\n",
    "                    title='Customer Segments by RFM',\n",
    "                    width=1000,  # increase width\n",
    "                    height=500   # increase height\n",
    "                   )\n",
    "fig.show()\n"
   ]
  },
  {
   "cell_type": "markdown",
   "id": "fac4afad",
   "metadata": {},
   "source": [
    "### PCA"
   ]
  },
  {
   "cell_type": "code",
   "execution_count": 12,
   "id": "d0992914",
   "metadata": {},
   "outputs": [],
   "source": [
    "from sklearn.decomposition import PCA\n",
    "from sklearn.preprocessing import StandardScaler\n",
    "\n",
    "\n",
    "features = ['recency', 'frequency', 'monetary']\n",
    "X = rfm[features]\n",
    "\n",
    "scaler = StandardScaler()\n",
    "X_scaled = scaler.fit_transform(X)\n",
    "\n",
    "pca = PCA(n_components=2)  # Reduce to 2 components (for 2D plot)\n",
    "X_pca = pca.fit_transform(X_scaled)\n",
    "\n",
    "\n",
    "pca_df = pd.DataFrame(data=X_pca, columns=['PC1', 'PC2'])\n",
    "pca_df['Cluster'] = rfm['Cluster']  # Add clusters if you want to color by cluster\n",
    "\n",
    "# apply pca values to rfm table\n",
    "rfm = pd.concat([rfm, pca_df[['PC1', 'PC2']]], axis=1)"
   ]
  },
  {
   "cell_type": "code",
   "execution_count": 13,
   "id": "1ec2d3d7",
   "metadata": {},
   "outputs": [
    {
     "data": {
      "application/vnd.plotly.v1+json": {
       "config": {
        "plotlyServerURL": "https://plot.ly"
       },
       "data": [
        {
         "hovertemplate": "Cluster=Potential Loyalists<br>PC1=%{x}<br>PC2=%{y}<extra></extra>",
         "legendgroup": "Potential Loyalists",
         "marker": {
          "color": "darkblue",
          "symbol": "circle"
         },
         "mode": "markers",
         "name": "Potential Loyalists",
         "orientation": "v",
         "showlegend": true,
         "type": "scatter",
         "x": {
          "bdata": "Uvtlx3+K5r/hT9evA4zmv0hfcawUS6e/JR1lKsl31r/KHEuHgrj1v/ooiZmVhvG/Wqg7VR3IvL9YkThUvrLtv7ern3OpFf6//1QowCWf2r9dVGs+VCH2vzMXKHc5rM2/eidrL7fW3b9zbp8kFYDwvxU9PQkQS/e/fvRHvyJv2r/JFNKtcwPpv9blrnP/X7+/8bfXCRDF57/2rElVThj7v5C8rhuhtfa/zhpnaoOU87/CnS20WrLsv+90Roenuue/e6i9LAYf8b8cg9UohALDv8HNCYVBleu/fiaOEYIO/b9xppsU8bTSv1+wVrU1Dve/76DXgY+n6L84UJNuFXfev4gAq1BqVvC/YjbKJDQE9r9E2QLhprXzv4j46pEfjfK/",
          "dtype": "f8"
         },
         "xaxis": "x",
         "y": {
          "bdata": "PYfs7wzis78PxQZcUofUvyeVcRsIV+W/lXRODUSb57+K7Dbw3aTwv1mc6xCwN8m/qNaqCH0O7L8q5ea/+onxv3pw58TQcdw/FTFiMBqQ779E02nJLsbqv7agLjAEleW/KWfTotaL7b/hJsa+u9nfP4YAZXzvp+G/jze5BKVSz78vxfwLc/rrv4D1Nj5JZNa/F0bANQCF8L8kpuFwKhrgP8/DDGPq08U/0xXP0fKM0L+33WaEkwzxv/a59TJ6TdM/GBW6nkwL3j8Loai2wNXrv3urdLBMKvK/fsOq4iojjj9GchmLzWPsv/PjQxYbtdO/D0NXh13Q179kba4fDvzcv4QklQhMJO2/JJMDmdbF8L8eyLe0rJrfv7yMovCQsM+/",
          "dtype": "f8"
         },
         "yaxis": "y"
        },
        {
         "hovertemplate": "Cluster=Loyal High-Value Customers<br>PC1=%{x}<br>PC2=%{y}<extra></extra>",
         "legendgroup": "Loyal High-Value Customers",
         "marker": {
          "color": "#ED7953",
          "symbol": "circle"
         },
         "mode": "markers",
         "name": "Loyal High-Value Customers",
         "orientation": "v",
         "showlegend": true,
         "type": "scatter",
         "x": {
          "bdata": "5IZS64xosz8mK71LzoHgPyPFpiCtcfo/CXCzhyjO9T9M74E+doLYP/LMVbHCeOY/5ndKb5MG9j/h1Umeg6bQPxewjIqOkrC/B7YThFjx3D82/dfmEX/bPx60j4G6w+E/m7fGKm11xz8+A3/+dEngP2SSjbhxjtI/nJwVxyOnxj9t5e7EZxryP9zwdbmSrvo/NPXLMRNqwz8RcTdoO6ncP89SvqiqFqY/gB+NiSZo8T9LvmgguODyP/jdkLQoFu4/xUAmXiAx4T9kmEuMJ63oP55H3rKGqfY/9ccWC94E6z+lnlUeJP3lPy8KmblnP/s/8JecQowg3j8rCfr01qHxP6+ha4xuxOA/aCotRxJVwz/LlM13qwrIP+ktwodOOMo/",
          "dtype": "f8"
         },
         "xaxis": "x",
         "y": {
          "bdata": "pn+7wlQF178ExueeN5HdvxBOxsZsrci/5RBGLA/B3L85QkURb/KGv3Ratwh2v9S/0QDMfMRE378JH6Nb7OXev/e0vZhadrY/yFvrVXom0L+G3OObfZblv0jVWsAu194/Su6W15SS579RIk9QBE3kvymQHpgSquC/2rp1w4344L/2HSbp4cDQv+qYbOxgiNO/Brq2hJlezD/2+NFkBKTwP41yYsQ5uuw/l7j9T+mvzL8EI8wesejLv/HlSaQ5o+K/xKPrqxzO5r/nj0+qCD71P0ZWRu4w5cC/BURvOsrEwT+bo4gorLDbvyLqC8SchJ6/REEx5GXCuT8CMeqUIZbnPwUaqXPbgMa/kKY6s7ik5D9lEATuqUrdvzBpwqt9bNO/",
          "dtype": "f8"
         },
         "yaxis": "y"
        },
        {
         "hovertemplate": "Cluster=Needs Attention<br>PC1=%{x}<br>PC2=%{y}<extra></extra>",
         "legendgroup": "Needs Attention",
         "marker": {
          "color": "purple",
          "symbol": "circle"
         },
         "mode": "markers",
         "name": "Needs Attention",
         "orientation": "v",
         "showlegend": true,
         "type": "scatter",
         "x": {
          "bdata": "KFySUYxVAsD90er6RLX1v66KyL7Qide/OZi5CiVN1j+NcSPRDFQBwJBhE6ZsXfW/sBNM1e4w9L9I8urUYzK7P0teoCGNMvy/",
          "dtype": "f8"
         },
         "xaxis": "x",
         "y": {
          "bdata": "KdX2yKfS/z+C6ZdJdC3xP+TlDt1fWfY/W4czjrE1B0DfKwqWFGoSQAdMuVLnR/o/vSWYl5lx7D8L626i/dYCQPl5VI6QSPs/",
          "dtype": "f8"
         },
         "yaxis": "y"
        },
        {
         "hovertemplate": "Cluster=Champions<br>PC1=%{x}<br>PC2=%{y}<extra></extra>",
         "legendgroup": "Champions",
         "marker": {
          "color": "yellow",
          "symbol": "circle"
         },
         "mode": "markers",
         "name": "Champions",
         "orientation": "v",
         "showlegend": true,
         "type": "scatter",
         "x": {
          "bdata": "WwpZX+0aCkCqa1CyKQYQQNXgxI3vDxhA8kwGKv84EkA=",
          "dtype": "f8"
         },
         "xaxis": "x",
         "y": {
          "bdata": "e6jy7UaQ6j8IbLgLL0/QP9QqRqnpcfI/Pb3nkCnN4z8=",
          "dtype": "f8"
         },
         "yaxis": "y"
        }
       ],
       "layout": {
        "height": 600,
        "legend": {
         "bgcolor": "black",
         "font": {
          "color": "white"
         },
         "title": {
          "text": "Customer Segment"
         },
         "tracegroupgap": 0
        },
        "template": {
         "data": {
          "bar": [
           {
            "error_x": {
             "color": "#f2f5fa"
            },
            "error_y": {
             "color": "#f2f5fa"
            },
            "marker": {
             "line": {
              "color": "rgb(17,17,17)",
              "width": 0.5
             },
             "pattern": {
              "fillmode": "overlay",
              "size": 10,
              "solidity": 0.2
             }
            },
            "type": "bar"
           }
          ],
          "barpolar": [
           {
            "marker": {
             "line": {
              "color": "rgb(17,17,17)",
              "width": 0.5
             },
             "pattern": {
              "fillmode": "overlay",
              "size": 10,
              "solidity": 0.2
             }
            },
            "type": "barpolar"
           }
          ],
          "carpet": [
           {
            "aaxis": {
             "endlinecolor": "#A2B1C6",
             "gridcolor": "#506784",
             "linecolor": "#506784",
             "minorgridcolor": "#506784",
             "startlinecolor": "#A2B1C6"
            },
            "baxis": {
             "endlinecolor": "#A2B1C6",
             "gridcolor": "#506784",
             "linecolor": "#506784",
             "minorgridcolor": "#506784",
             "startlinecolor": "#A2B1C6"
            },
            "type": "carpet"
           }
          ],
          "choropleth": [
           {
            "colorbar": {
             "outlinewidth": 0,
             "ticks": ""
            },
            "type": "choropleth"
           }
          ],
          "contour": [
           {
            "colorbar": {
             "outlinewidth": 0,
             "ticks": ""
            },
            "colorscale": [
             [
              0,
              "#0d0887"
             ],
             [
              0.1111111111111111,
              "#46039f"
             ],
             [
              0.2222222222222222,
              "#7201a8"
             ],
             [
              0.3333333333333333,
              "#9c179e"
             ],
             [
              0.4444444444444444,
              "#bd3786"
             ],
             [
              0.5555555555555556,
              "#d8576b"
             ],
             [
              0.6666666666666666,
              "#ed7953"
             ],
             [
              0.7777777777777778,
              "#fb9f3a"
             ],
             [
              0.8888888888888888,
              "#fdca26"
             ],
             [
              1,
              "#f0f921"
             ]
            ],
            "type": "contour"
           }
          ],
          "contourcarpet": [
           {
            "colorbar": {
             "outlinewidth": 0,
             "ticks": ""
            },
            "type": "contourcarpet"
           }
          ],
          "heatmap": [
           {
            "colorbar": {
             "outlinewidth": 0,
             "ticks": ""
            },
            "colorscale": [
             [
              0,
              "#0d0887"
             ],
             [
              0.1111111111111111,
              "#46039f"
             ],
             [
              0.2222222222222222,
              "#7201a8"
             ],
             [
              0.3333333333333333,
              "#9c179e"
             ],
             [
              0.4444444444444444,
              "#bd3786"
             ],
             [
              0.5555555555555556,
              "#d8576b"
             ],
             [
              0.6666666666666666,
              "#ed7953"
             ],
             [
              0.7777777777777778,
              "#fb9f3a"
             ],
             [
              0.8888888888888888,
              "#fdca26"
             ],
             [
              1,
              "#f0f921"
             ]
            ],
            "type": "heatmap"
           }
          ],
          "histogram": [
           {
            "marker": {
             "pattern": {
              "fillmode": "overlay",
              "size": 10,
              "solidity": 0.2
             }
            },
            "type": "histogram"
           }
          ],
          "histogram2d": [
           {
            "colorbar": {
             "outlinewidth": 0,
             "ticks": ""
            },
            "colorscale": [
             [
              0,
              "#0d0887"
             ],
             [
              0.1111111111111111,
              "#46039f"
             ],
             [
              0.2222222222222222,
              "#7201a8"
             ],
             [
              0.3333333333333333,
              "#9c179e"
             ],
             [
              0.4444444444444444,
              "#bd3786"
             ],
             [
              0.5555555555555556,
              "#d8576b"
             ],
             [
              0.6666666666666666,
              "#ed7953"
             ],
             [
              0.7777777777777778,
              "#fb9f3a"
             ],
             [
              0.8888888888888888,
              "#fdca26"
             ],
             [
              1,
              "#f0f921"
             ]
            ],
            "type": "histogram2d"
           }
          ],
          "histogram2dcontour": [
           {
            "colorbar": {
             "outlinewidth": 0,
             "ticks": ""
            },
            "colorscale": [
             [
              0,
              "#0d0887"
             ],
             [
              0.1111111111111111,
              "#46039f"
             ],
             [
              0.2222222222222222,
              "#7201a8"
             ],
             [
              0.3333333333333333,
              "#9c179e"
             ],
             [
              0.4444444444444444,
              "#bd3786"
             ],
             [
              0.5555555555555556,
              "#d8576b"
             ],
             [
              0.6666666666666666,
              "#ed7953"
             ],
             [
              0.7777777777777778,
              "#fb9f3a"
             ],
             [
              0.8888888888888888,
              "#fdca26"
             ],
             [
              1,
              "#f0f921"
             ]
            ],
            "type": "histogram2dcontour"
           }
          ],
          "mesh3d": [
           {
            "colorbar": {
             "outlinewidth": 0,
             "ticks": ""
            },
            "type": "mesh3d"
           }
          ],
          "parcoords": [
           {
            "line": {
             "colorbar": {
              "outlinewidth": 0,
              "ticks": ""
             }
            },
            "type": "parcoords"
           }
          ],
          "pie": [
           {
            "automargin": true,
            "type": "pie"
           }
          ],
          "scatter": [
           {
            "marker": {
             "line": {
              "color": "#283442"
             }
            },
            "type": "scatter"
           }
          ],
          "scatter3d": [
           {
            "line": {
             "colorbar": {
              "outlinewidth": 0,
              "ticks": ""
             }
            },
            "marker": {
             "colorbar": {
              "outlinewidth": 0,
              "ticks": ""
             }
            },
            "type": "scatter3d"
           }
          ],
          "scattercarpet": [
           {
            "marker": {
             "colorbar": {
              "outlinewidth": 0,
              "ticks": ""
             }
            },
            "type": "scattercarpet"
           }
          ],
          "scattergeo": [
           {
            "marker": {
             "colorbar": {
              "outlinewidth": 0,
              "ticks": ""
             }
            },
            "type": "scattergeo"
           }
          ],
          "scattergl": [
           {
            "marker": {
             "line": {
              "color": "#283442"
             }
            },
            "type": "scattergl"
           }
          ],
          "scattermap": [
           {
            "marker": {
             "colorbar": {
              "outlinewidth": 0,
              "ticks": ""
             }
            },
            "type": "scattermap"
           }
          ],
          "scattermapbox": [
           {
            "marker": {
             "colorbar": {
              "outlinewidth": 0,
              "ticks": ""
             }
            },
            "type": "scattermapbox"
           }
          ],
          "scatterpolar": [
           {
            "marker": {
             "colorbar": {
              "outlinewidth": 0,
              "ticks": ""
             }
            },
            "type": "scatterpolar"
           }
          ],
          "scatterpolargl": [
           {
            "marker": {
             "colorbar": {
              "outlinewidth": 0,
              "ticks": ""
             }
            },
            "type": "scatterpolargl"
           }
          ],
          "scatterternary": [
           {
            "marker": {
             "colorbar": {
              "outlinewidth": 0,
              "ticks": ""
             }
            },
            "type": "scatterternary"
           }
          ],
          "surface": [
           {
            "colorbar": {
             "outlinewidth": 0,
             "ticks": ""
            },
            "colorscale": [
             [
              0,
              "#0d0887"
             ],
             [
              0.1111111111111111,
              "#46039f"
             ],
             [
              0.2222222222222222,
              "#7201a8"
             ],
             [
              0.3333333333333333,
              "#9c179e"
             ],
             [
              0.4444444444444444,
              "#bd3786"
             ],
             [
              0.5555555555555556,
              "#d8576b"
             ],
             [
              0.6666666666666666,
              "#ed7953"
             ],
             [
              0.7777777777777778,
              "#fb9f3a"
             ],
             [
              0.8888888888888888,
              "#fdca26"
             ],
             [
              1,
              "#f0f921"
             ]
            ],
            "type": "surface"
           }
          ],
          "table": [
           {
            "cells": {
             "fill": {
              "color": "#506784"
             },
             "line": {
              "color": "rgb(17,17,17)"
             }
            },
            "header": {
             "fill": {
              "color": "#2a3f5f"
             },
             "line": {
              "color": "rgb(17,17,17)"
             }
            },
            "type": "table"
           }
          ]
         },
         "layout": {
          "annotationdefaults": {
           "arrowcolor": "#f2f5fa",
           "arrowhead": 0,
           "arrowwidth": 1
          },
          "autotypenumbers": "strict",
          "coloraxis": {
           "colorbar": {
            "outlinewidth": 0,
            "ticks": ""
           }
          },
          "colorscale": {
           "diverging": [
            [
             0,
             "#8e0152"
            ],
            [
             0.1,
             "#c51b7d"
            ],
            [
             0.2,
             "#de77ae"
            ],
            [
             0.3,
             "#f1b6da"
            ],
            [
             0.4,
             "#fde0ef"
            ],
            [
             0.5,
             "#f7f7f7"
            ],
            [
             0.6,
             "#e6f5d0"
            ],
            [
             0.7,
             "#b8e186"
            ],
            [
             0.8,
             "#7fbc41"
            ],
            [
             0.9,
             "#4d9221"
            ],
            [
             1,
             "#276419"
            ]
           ],
           "sequential": [
            [
             0,
             "#0d0887"
            ],
            [
             0.1111111111111111,
             "#46039f"
            ],
            [
             0.2222222222222222,
             "#7201a8"
            ],
            [
             0.3333333333333333,
             "#9c179e"
            ],
            [
             0.4444444444444444,
             "#bd3786"
            ],
            [
             0.5555555555555556,
             "#d8576b"
            ],
            [
             0.6666666666666666,
             "#ed7953"
            ],
            [
             0.7777777777777778,
             "#fb9f3a"
            ],
            [
             0.8888888888888888,
             "#fdca26"
            ],
            [
             1,
             "#f0f921"
            ]
           ],
           "sequentialminus": [
            [
             0,
             "#0d0887"
            ],
            [
             0.1111111111111111,
             "#46039f"
            ],
            [
             0.2222222222222222,
             "#7201a8"
            ],
            [
             0.3333333333333333,
             "#9c179e"
            ],
            [
             0.4444444444444444,
             "#bd3786"
            ],
            [
             0.5555555555555556,
             "#d8576b"
            ],
            [
             0.6666666666666666,
             "#ed7953"
            ],
            [
             0.7777777777777778,
             "#fb9f3a"
            ],
            [
             0.8888888888888888,
             "#fdca26"
            ],
            [
             1,
             "#f0f921"
            ]
           ]
          },
          "colorway": [
           "#636efa",
           "#EF553B",
           "#00cc96",
           "#ab63fa",
           "#FFA15A",
           "#19d3f3",
           "#FF6692",
           "#B6E880",
           "#FF97FF",
           "#FECB52"
          ],
          "font": {
           "color": "#f2f5fa"
          },
          "geo": {
           "bgcolor": "rgb(17,17,17)",
           "lakecolor": "rgb(17,17,17)",
           "landcolor": "rgb(17,17,17)",
           "showlakes": true,
           "showland": true,
           "subunitcolor": "#506784"
          },
          "hoverlabel": {
           "align": "left"
          },
          "hovermode": "closest",
          "mapbox": {
           "style": "dark"
          },
          "paper_bgcolor": "rgb(17,17,17)",
          "plot_bgcolor": "rgb(17,17,17)",
          "polar": {
           "angularaxis": {
            "gridcolor": "#506784",
            "linecolor": "#506784",
            "ticks": ""
           },
           "bgcolor": "rgb(17,17,17)",
           "radialaxis": {
            "gridcolor": "#506784",
            "linecolor": "#506784",
            "ticks": ""
           }
          },
          "scene": {
           "xaxis": {
            "backgroundcolor": "rgb(17,17,17)",
            "gridcolor": "#506784",
            "gridwidth": 2,
            "linecolor": "#506784",
            "showbackground": true,
            "ticks": "",
            "zerolinecolor": "#C8D4E3"
           },
           "yaxis": {
            "backgroundcolor": "rgb(17,17,17)",
            "gridcolor": "#506784",
            "gridwidth": 2,
            "linecolor": "#506784",
            "showbackground": true,
            "ticks": "",
            "zerolinecolor": "#C8D4E3"
           },
           "zaxis": {
            "backgroundcolor": "rgb(17,17,17)",
            "gridcolor": "#506784",
            "gridwidth": 2,
            "linecolor": "#506784",
            "showbackground": true,
            "ticks": "",
            "zerolinecolor": "#C8D4E3"
           }
          },
          "shapedefaults": {
           "line": {
            "color": "#f2f5fa"
           }
          },
          "sliderdefaults": {
           "bgcolor": "#C8D4E3",
           "bordercolor": "rgb(17,17,17)",
           "borderwidth": 1,
           "tickwidth": 0
          },
          "ternary": {
           "aaxis": {
            "gridcolor": "#506784",
            "linecolor": "#506784",
            "ticks": ""
           },
           "baxis": {
            "gridcolor": "#506784",
            "linecolor": "#506784",
            "ticks": ""
           },
           "bgcolor": "rgb(17,17,17)",
           "caxis": {
            "gridcolor": "#506784",
            "linecolor": "#506784",
            "ticks": ""
           }
          },
          "title": {
           "x": 0.05
          },
          "updatemenudefaults": {
           "bgcolor": "#506784",
           "borderwidth": 0
          },
          "xaxis": {
           "automargin": true,
           "gridcolor": "#283442",
           "linecolor": "#506784",
           "ticks": "",
           "title": {
            "standoff": 15
           },
           "zerolinecolor": "#283442",
           "zerolinewidth": 2
          },
          "yaxis": {
           "automargin": true,
           "gridcolor": "#283442",
           "linecolor": "#506784",
           "ticks": "",
           "title": {
            "standoff": 15
           },
           "zerolinecolor": "#283442",
           "zerolinewidth": 2
          }
         }
        },
        "title": {
         "text": "Clusters Visualized in PCA Space"
        },
        "width": 800,
        "xaxis": {
         "anchor": "y",
         "domain": [
          0,
          1
         ],
         "title": {
          "text": "PC1"
         }
        },
        "yaxis": {
         "anchor": "x",
         "domain": [
          0,
          1
         ],
         "title": {
          "text": "PC2"
         }
        }
       }
      }
     },
     "metadata": {},
     "output_type": "display_data"
    }
   ],
   "source": [
    "import plotly.express as px\n",
    "\n",
    "# Define the custom color map\n",
    "custom_palette = {\n",
    "    'Potential Loyalists': 'darkblue',\n",
    "    'Needs Attention': 'purple',\n",
    "    'Loyal High-Value Customers': '#ED7953',\n",
    "    'Champions': 'yellow'\n",
    "}\n",
    "\n",
    "# Plot using Plotly\n",
    "fig = px.scatter(\n",
    "    pca_df,\n",
    "    x='PC1',\n",
    "    y='PC2',\n",
    "    color='Cluster',\n",
    "    title='Clusters Visualized in PCA Space',\n",
    "    color_discrete_map=custom_palette,\n",
    "    template='plotly_dark',\n",
    "    width=800,\n",
    "    height=600\n",
    ")\n",
    "\n",
    "fig.update_layout(\n",
    "    legend_title_text='Customer Segment',\n",
    "    legend=dict(bgcolor='black', font=dict(color='white'))\n",
    ")\n",
    "\n",
    "fig.show()\n"
   ]
  },
  {
   "cell_type": "code",
   "execution_count": 14,
   "id": "13bf7b69",
   "metadata": {},
   "outputs": [],
   "source": [
    "rfm.to_csv('data/rfm_analysis.csv', index = False)"
   ]
  }
 ],
 "metadata": {
  "kernelspec": {
   "display_name": "venv",
   "language": "python",
   "name": "python3"
  },
  "language_info": {
   "codemirror_mode": {
    "name": "ipython",
    "version": 3
   },
   "file_extension": ".py",
   "mimetype": "text/x-python",
   "name": "python",
   "nbconvert_exporter": "python",
   "pygments_lexer": "ipython3",
   "version": "3.12.7"
  }
 },
 "nbformat": 4,
 "nbformat_minor": 5
}
